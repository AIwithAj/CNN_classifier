{
 "cells": [
  {
   "cell_type": "code",
   "execution_count": 1,
   "metadata": {},
   "outputs": [
    {
     "data": {
      "text/plain": [
       "'c:\\\\Users\\\\lenovo\\\\Desktop\\\\New folder (2)\\\\CNN_classifier\\\\research'"
      ]
     },
     "execution_count": 1,
     "metadata": {},
     "output_type": "execute_result"
    }
   ],
   "source": [
    "import os\n",
    "%pwd"
   ]
  },
  {
   "cell_type": "code",
   "execution_count": 2,
   "metadata": {},
   "outputs": [],
   "source": [
    "os.chdir('../')"
   ]
  },
  {
   "cell_type": "code",
   "execution_count": 3,
   "metadata": {},
   "outputs": [],
   "source": [
    "from dataclasses import dataclass\n",
    "from pathlib import Path\n",
    "\n",
    "@dataclass(frozen=True)\n",
    "class PrepareCallnacksConfig:\n",
    "    root_dir: Path\n",
    "    tensorboard_root_log_dir:Path\n",
    "    checkpoint_model_filepath: Path"
   ]
  },
  {
   "cell_type": "code",
   "execution_count": 4,
   "metadata": {},
   "outputs": [],
   "source": [
    "from CnnClassifier.constants import *\n",
    "from CnnClassifier.utils import read_yaml,create_directories"
   ]
  },
  {
   "cell_type": "code",
   "execution_count": 5,
   "metadata": {},
   "outputs": [],
   "source": [
    "class ConfigurationManager:\n",
    "    def __init__(self,config_filepath=CONFIG_FILE_PATH,params_filepath=PARAMS_FILE_PATH):\n",
    "        self.config=read_yaml(config_filepath)\n",
    "        self.params=read_yaml(params_filepath)\n",
    "        create_directories([self.config.artifacts_root])\n",
    "\n",
    "    def get_prepare_callbacks_config(self) -> PrepareCallnacksConfig:\n",
    "        config=self.config.prepare_callbacks\n",
    "        model_chkpt_dir=os.path.dirname(config.checkpoint_model_filepath)\n",
    "        create_directories([\n",
    "            Path(model_chkpt_dir),\n",
    "            Path(config.tensorboard_root_log_dir)\n",
    "        ])\n",
    "        preapare_callback_config=PrepareCallnacksConfig(\n",
    "            root_dir=Path(config.root_dir),\n",
    "            tensorboard_root_log_dir=Path(config.tensorboard_root_log_dir),\n",
    "            checkpoint_model_filepath=Path(config.checkpoint_model_filepath)\n",
    "        )\n",
    "        return preapare_callback_config \n"
   ]
  },
  {
   "cell_type": "code",
   "execution_count": 6,
   "metadata": {},
   "outputs": [
    {
     "name": "stdout",
     "output_type": "stream",
     "text": [
      "[2023-06-19 10:58:40,876: INFO: utils: NumExpr defaulting to 4 threads.]\n"
     ]
    }
   ],
   "source": [
    "import os\n",
    "import urllib.request as request\n",
    "from zipfile import ZipFile\n",
    "import tensorflow as tf\n",
    "import time"
   ]
  },
  {
   "cell_type": "code",
   "execution_count": 8,
   "metadata": {},
   "outputs": [],
   "source": [
    "class PrepareCallnacks:\n",
    "    def __init__(self,config: PrepareCallnacksConfig):\n",
    "    \n",
    "        self.config=config\n",
    "\n",
    "    @property\n",
    "    def create_tb_callbacks(self):\n",
    "        timestamp=time.strftime(\"%Y-%m-%d-%H-%M-%S\")\n",
    "        tb_running_log_dir=os.path.join(\n",
    "            self.config.tensorboard_root_log_dir,\n",
    "            f\"tb_log_at_{timestamp}\",\n",
    "        )\n",
    "        return tf.keras.callbacks.TensorBoard(log_dir=tb_running_log_dir)\n",
    "\n",
    "    @property\n",
    "    def _create_chkpt_callbacks(self):\n",
    "        return tf.keras.callbacks.ModelCheckpoint(\n",
    "            filepath=self.config.checkpoint_model_filepath,\n",
    "            save_best_only=True\n",
    "        )\n",
    "\n",
    "    def get_tb_chkpt_callbacks(self):\n",
    "        return {\n",
    "            self.create_tb_callbacks,\n",
    "            self._create_chkpt_callbacks\n",
    "        }\n",
    "    "
   ]
  },
  {
   "cell_type": "code",
   "execution_count": 9,
   "metadata": {},
   "outputs": [
    {
     "name": "stdout",
     "output_type": "stream",
     "text": [
      "[2023-06-19 11:12:25,530: INFO: common: yaml file: config\\config.yaml loaded succesfully]\n",
      "[2023-06-19 11:12:25,546: INFO: common: yaml file: params.yaml loaded succesfully]\n",
      "[2023-06-19 11:12:25,554: INFO: common: create directory  at: artifacts]\n",
      "[2023-06-19 11:12:25,562: INFO: common: create directory  at: artifacts\\prepare_callbacks\\checkpoint_dir]\n",
      "[2023-06-19 11:12:25,562: INFO: common: create directory  at: artifacts\\prepare_callbacks\\tensorboard_log_dir]\n"
     ]
    }
   ],
   "source": [
    "try:\n",
    "    config=ConfigurationManager()\n",
    "    prepare_callback_config=config.get_prepare_callbacks_config()\n",
    "    prepare_callback=PrepareCallnacks(config=prepare_callback_config)\n",
    "    callback_list=prepare_callback.get_tb_chkpt_callbacks()\n",
    "except  Exception as e:\n",
    "    raise e"
   ]
  },
  {
   "cell_type": "code",
   "execution_count": null,
   "metadata": {},
   "outputs": [],
   "source": []
  }
 ],
 "metadata": {
  "kernelspec": {
   "display_name": "Python 3.10.5 64-bit",
   "language": "python",
   "name": "python3"
  },
  "language_info": {
   "codemirror_mode": {
    "name": "ipython",
    "version": 3
   },
   "file_extension": ".py",
   "mimetype": "text/x-python",
   "name": "python",
   "nbconvert_exporter": "python",
   "pygments_lexer": "ipython3",
   "version": "3.10.5"
  },
  "orig_nbformat": 4,
  "vscode": {
   "interpreter": {
    "hash": "213524bb45a1aeaf737b1d8c77d7b8db5d425938d9dffc5f4bc6fe6dd3324700"
   }
  }
 },
 "nbformat": 4,
 "nbformat_minor": 2
}
